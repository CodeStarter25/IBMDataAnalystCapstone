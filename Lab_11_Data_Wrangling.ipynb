{
 "cells": [
  {
   "cell_type": "markdown",
   "metadata": {},
   "source": [
    "<p style=\"text-align:center\">\n",
    "    <a href=\"https://skills.network\" target=\"_blank\">\n",
    "    <img src=\"https://cf-courses-data.s3.us.cloud-object-storage.appdomain.cloud/assets/logos/SN_web_lightmode.png\" width=\"200\" alt=\"Skills Network Logo\"  />\n",
    "    </a>\n",
    "</p>\n"
   ]
  },
  {
   "cell_type": "markdown",
   "metadata": {},
   "source": [
    "# **Data Wrangling Lab**\n"
   ]
  },
  {
   "cell_type": "markdown",
   "metadata": {},
   "source": [
    "Estimated time needed: **45** minutes\n"
   ]
  },
  {
   "cell_type": "markdown",
   "metadata": {},
   "source": [
    "In this lab, you will perform data wrangling tasks to prepare raw data for analysis. Data wrangling involves cleaning, transforming, and organizing data into a structured format suitable for analysis. This lab focuses on tasks like identifying inconsistencies, encoding categorical variables, and feature transformation.\n"
   ]
  },
  {
   "cell_type": "markdown",
   "metadata": {},
   "source": [
    "## Objectives\n"
   ]
  },
  {
   "cell_type": "markdown",
   "metadata": {},
   "source": [
    "After completing this lab, you will be able to:\n"
   ]
  },
  {
   "cell_type": "markdown",
   "metadata": {},
   "source": [
    "- Identify and remove inconsistent data entries.\n",
    "\n",
    "- Encode categorical variables for analysis.\n",
    "\n",
    "- Handle missing values using multiple imputation strategies.\n",
    "\n",
    "- Apply feature scaling and transformation techniques.\n"
   ]
  },
  {
   "cell_type": "markdown",
   "metadata": {},
   "source": [
    "#### Intsall the required libraries\n"
   ]
  },
  {
   "cell_type": "code",
   "execution_count": 1,
   "metadata": {
    "scrolled": true
   },
   "outputs": [
    {
     "name": "stdout",
     "output_type": "stream",
     "text": [
      "Requirement already satisfied: pandas in /opt/conda/lib/python3.12/site-packages (2.3.2)\n",
      "Requirement already satisfied: numpy>=1.26.0 in /opt/conda/lib/python3.12/site-packages (from pandas) (2.3.2)\n",
      "Requirement already satisfied: python-dateutil>=2.8.2 in /opt/conda/lib/python3.12/site-packages (from pandas) (2.9.0.post0)\n",
      "Requirement already satisfied: pytz>=2020.1 in /opt/conda/lib/python3.12/site-packages (from pandas) (2024.2)\n",
      "Requirement already satisfied: tzdata>=2022.7 in /opt/conda/lib/python3.12/site-packages (from pandas) (2025.2)\n",
      "Requirement already satisfied: six>=1.5 in /opt/conda/lib/python3.12/site-packages (from python-dateutil>=2.8.2->pandas) (1.17.0)\n",
      "Requirement already satisfied: matplotlib in /opt/conda/lib/python3.12/site-packages (3.10.6)\n",
      "Requirement already satisfied: contourpy>=1.0.1 in /opt/conda/lib/python3.12/site-packages (from matplotlib) (1.3.3)\n",
      "Requirement already satisfied: cycler>=0.10 in /opt/conda/lib/python3.12/site-packages (from matplotlib) (0.12.1)\n",
      "Requirement already satisfied: fonttools>=4.22.0 in /opt/conda/lib/python3.12/site-packages (from matplotlib) (4.59.2)\n",
      "Requirement already satisfied: kiwisolver>=1.3.1 in /opt/conda/lib/python3.12/site-packages (from matplotlib) (1.4.9)\n",
      "Requirement already satisfied: numpy>=1.23 in /opt/conda/lib/python3.12/site-packages (from matplotlib) (2.3.2)\n",
      "Requirement already satisfied: packaging>=20.0 in /opt/conda/lib/python3.12/site-packages (from matplotlib) (24.2)\n",
      "Requirement already satisfied: pillow>=8 in /opt/conda/lib/python3.12/site-packages (from matplotlib) (11.3.0)\n",
      "Requirement already satisfied: pyparsing>=2.3.1 in /opt/conda/lib/python3.12/site-packages (from matplotlib) (3.2.3)\n",
      "Requirement already satisfied: python-dateutil>=2.7 in /opt/conda/lib/python3.12/site-packages (from matplotlib) (2.9.0.post0)\n",
      "Requirement already satisfied: six>=1.5 in /opt/conda/lib/python3.12/site-packages (from python-dateutil>=2.7->matplotlib) (1.17.0)\n"
     ]
    }
   ],
   "source": [
    "!pip install pandas\n",
    "!pip install matplotlib"
   ]
  },
  {
   "cell_type": "markdown",
   "metadata": {},
   "source": [
    "## Tasks\n"
   ]
  },
  {
   "cell_type": "markdown",
   "metadata": {},
   "source": [
    "#### Step 1: Import the necessary module.\n"
   ]
  },
  {
   "cell_type": "markdown",
   "metadata": {},
   "source": [
    "### 1. Load the Dataset\n"
   ]
  },
  {
   "cell_type": "markdown",
   "metadata": {},
   "source": [
    "<h5>1.1 Import necessary libraries and load the dataset.</h5>\n"
   ]
  },
  {
   "cell_type": "markdown",
   "metadata": {},
   "source": [
    "Ensure the dataset is loaded correctly by displaying the first few rows.\n"
   ]
  },
  {
   "cell_type": "code",
   "execution_count": 2,
   "metadata": {},
   "outputs": [
    {
     "name": "stdout",
     "output_type": "stream",
     "text": [
      "   ResponseId                      MainBranch                 Age  \\\n",
      "0           1  I am a developer by profession  Under 18 years old   \n",
      "1           2  I am a developer by profession     35-44 years old   \n",
      "2           3  I am a developer by profession     45-54 years old   \n",
      "3           4           I am learning to code     18-24 years old   \n",
      "4           5  I am a developer by profession     18-24 years old   \n",
      "\n",
      "            Employment RemoteWork   Check  \\\n",
      "0  Employed, full-time     Remote  Apples   \n",
      "1  Employed, full-time     Remote  Apples   \n",
      "2  Employed, full-time     Remote  Apples   \n",
      "3   Student, full-time        NaN  Apples   \n",
      "4   Student, full-time        NaN  Apples   \n",
      "\n",
      "                                    CodingActivities  \\\n",
      "0                                              Hobby   \n",
      "1  Hobby;Contribute to open-source projects;Other...   \n",
      "2  Hobby;Contribute to open-source projects;Other...   \n",
      "3                                                NaN   \n",
      "4                                                NaN   \n",
      "\n",
      "                                             EdLevel  \\\n",
      "0                          Primary/elementary school   \n",
      "1       Bachelor’s degree (B.A., B.S., B.Eng., etc.)   \n",
      "2    Master’s degree (M.A., M.S., M.Eng., MBA, etc.)   \n",
      "3  Some college/university study without earning ...   \n",
      "4  Secondary school (e.g. American high school, G...   \n",
      "\n",
      "                                           LearnCode  \\\n",
      "0                             Books / Physical media   \n",
      "1  Books / Physical media;Colleague;On the job tr...   \n",
      "2  Books / Physical media;Colleague;On the job tr...   \n",
      "3  Other online resources (e.g., videos, blogs, f...   \n",
      "4  Other online resources (e.g., videos, blogs, f...   \n",
      "\n",
      "                                     LearnCodeOnline  ... JobSatPoints_6  \\\n",
      "0                                                NaN  ...            NaN   \n",
      "1  Technical documentation;Blogs;Books;Written Tu...  ...            0.0   \n",
      "2  Technical documentation;Blogs;Books;Written Tu...  ...            NaN   \n",
      "3  Stack Overflow;How-to videos;Interactive tutorial  ...            NaN   \n",
      "4  Technical documentation;Blogs;Written Tutorial...  ...            NaN   \n",
      "\n",
      "  JobSatPoints_7 JobSatPoints_8 JobSatPoints_9 JobSatPoints_10  \\\n",
      "0            NaN            NaN            NaN             NaN   \n",
      "1            0.0            0.0            0.0             0.0   \n",
      "2            NaN            NaN            NaN             NaN   \n",
      "3            NaN            NaN            NaN             NaN   \n",
      "4            NaN            NaN            NaN             NaN   \n",
      "\n",
      "  JobSatPoints_11           SurveyLength SurveyEase ConvertedCompYearly JobSat  \n",
      "0             NaN                    NaN        NaN                 NaN    NaN  \n",
      "1             0.0                    NaN        NaN                 NaN    NaN  \n",
      "2             NaN  Appropriate in length       Easy                 NaN    NaN  \n",
      "3             NaN               Too long       Easy                 NaN    NaN  \n",
      "4             NaN              Too short       Easy                 NaN    NaN  \n",
      "\n",
      "[5 rows x 114 columns]\n"
     ]
    }
   ],
   "source": [
    "# Import necessary libraries\n",
    "import pandas as pd\n",
    "\n",
    "# Load the Stack Overflow survey data\n",
    "dataset_url = \"https://cf-courses-data.s3.us.cloud-object-storage.appdomain.cloud/n01PQ9pSmiRX6520flujwQ/survey-data.csv\"\n",
    "df = pd.read_csv(dataset_url)\n",
    "\n",
    "# Display the first few rows\n",
    "print(df.head())\n"
   ]
  },
  {
   "cell_type": "markdown",
   "metadata": {},
   "source": [
    "#### 2. Explore the Dataset\n"
   ]
  },
  {
   "cell_type": "markdown",
   "metadata": {},
   "source": [
    "<h5>2.1 Summarize the dataset by displaying the column data types, counts, and missing values.</h5>\n"
   ]
  },
  {
   "cell_type": "code",
   "execution_count": 3,
   "metadata": {},
   "outputs": [
    {
     "name": "stdout",
     "output_type": "stream",
     "text": [
      "Column data types list:\n",
      "ResponseId               int64\n",
      "MainBranch              object\n",
      "Age                     object\n",
      "Employment              object\n",
      "RemoteWork              object\n",
      "                        ...   \n",
      "JobSatPoints_11        float64\n",
      "SurveyLength            object\n",
      "SurveyEase              object\n",
      "ConvertedCompYearly    float64\n",
      "JobSat                 float64\n",
      "Length: 114, dtype: object\n",
      "\n",
      "Count for (row, column) of df is: (65437, 114)\n",
      "\n",
      "Count for missing values in df per column: \n",
      "AINextMuch less integrated    64289\n",
      "AINextLess integrated         63082\n",
      "AINextNo change               52939\n",
      "AINextMuch more integrated    51999\n",
      "EmbeddedAdmired               48704\n",
      "                              ...  \n",
      "YearsCode                      5568\n",
      "NEWSOSites                     5151\n",
      "LearnCode                      4949\n",
      "EdLevel                        4653\n",
      "AISelect                       4530\n",
      "Length: 109, dtype: int64\n"
     ]
    }
   ],
   "source": [
    "# Write your code here\n",
    "# Finds the column data types\n",
    "print('Column data types list:')\n",
    "print(df.dtypes)\n",
    "print()\n",
    "\n",
    "# Finds the counts/number of column and rows of df\n",
    "print('Count for (row, column) of df is:', df.shape)\n",
    "print()\n",
    "\n",
    "# Finds the number of missing values per column\n",
    "# Finding null values in data\n",
    "print('Count for missing values in df per column: ')\n",
    "missing_values = df.isnull().sum()\n",
    "\n",
    "# Filters list to all columns with missing values\n",
    "missing_values = missing_values[missing_values > 0].sort_values(ascending=False)\n",
    "\n",
    "# Prints summary\n",
    "print(missing_values)"
   ]
  },
  {
   "cell_type": "markdown",
   "metadata": {},
   "source": [
    "<h5>2.2 Generate basic statistics for numerical columns.</h5>\n"
   ]
  },
  {
   "cell_type": "code",
   "execution_count": 4,
   "metadata": {},
   "outputs": [
    {
     "data": {
      "text/html": [
       "<div>\n",
       "<style scoped>\n",
       "    .dataframe tbody tr th:only-of-type {\n",
       "        vertical-align: middle;\n",
       "    }\n",
       "\n",
       "    .dataframe tbody tr th {\n",
       "        vertical-align: top;\n",
       "    }\n",
       "\n",
       "    .dataframe thead th {\n",
       "        text-align: right;\n",
       "    }\n",
       "</style>\n",
       "<table border=\"1\" class=\"dataframe\">\n",
       "  <thead>\n",
       "    <tr style=\"text-align: right;\">\n",
       "      <th></th>\n",
       "      <th>ResponseId</th>\n",
       "      <th>CompTotal</th>\n",
       "      <th>WorkExp</th>\n",
       "      <th>JobSatPoints_1</th>\n",
       "      <th>JobSatPoints_4</th>\n",
       "      <th>JobSatPoints_5</th>\n",
       "      <th>JobSatPoints_6</th>\n",
       "      <th>JobSatPoints_7</th>\n",
       "      <th>JobSatPoints_8</th>\n",
       "      <th>JobSatPoints_9</th>\n",
       "      <th>JobSatPoints_10</th>\n",
       "      <th>JobSatPoints_11</th>\n",
       "      <th>ConvertedCompYearly</th>\n",
       "      <th>JobSat</th>\n",
       "    </tr>\n",
       "  </thead>\n",
       "  <tbody>\n",
       "    <tr>\n",
       "      <th>count</th>\n",
       "      <td>65437.000000</td>\n",
       "      <td>3.374000e+04</td>\n",
       "      <td>29658.000000</td>\n",
       "      <td>29324.000000</td>\n",
       "      <td>29393.000000</td>\n",
       "      <td>29411.000000</td>\n",
       "      <td>29450.000000</td>\n",
       "      <td>29448.00000</td>\n",
       "      <td>29456.000000</td>\n",
       "      <td>29456.000000</td>\n",
       "      <td>29450.000000</td>\n",
       "      <td>29445.000000</td>\n",
       "      <td>2.343500e+04</td>\n",
       "      <td>29126.000000</td>\n",
       "    </tr>\n",
       "    <tr>\n",
       "      <th>mean</th>\n",
       "      <td>32719.000000</td>\n",
       "      <td>2.963841e+145</td>\n",
       "      <td>11.466957</td>\n",
       "      <td>18.581094</td>\n",
       "      <td>7.522140</td>\n",
       "      <td>10.060857</td>\n",
       "      <td>24.343232</td>\n",
       "      <td>22.96522</td>\n",
       "      <td>20.278165</td>\n",
       "      <td>16.169432</td>\n",
       "      <td>10.955713</td>\n",
       "      <td>9.953948</td>\n",
       "      <td>8.615529e+04</td>\n",
       "      <td>6.935041</td>\n",
       "    </tr>\n",
       "    <tr>\n",
       "      <th>std</th>\n",
       "      <td>18890.179119</td>\n",
       "      <td>5.444117e+147</td>\n",
       "      <td>9.168709</td>\n",
       "      <td>25.966221</td>\n",
       "      <td>18.422661</td>\n",
       "      <td>21.833836</td>\n",
       "      <td>27.089360</td>\n",
       "      <td>27.01774</td>\n",
       "      <td>26.108110</td>\n",
       "      <td>24.845032</td>\n",
       "      <td>22.906263</td>\n",
       "      <td>21.775652</td>\n",
       "      <td>1.867570e+05</td>\n",
       "      <td>2.088259</td>\n",
       "    </tr>\n",
       "    <tr>\n",
       "      <th>min</th>\n",
       "      <td>1.000000</td>\n",
       "      <td>0.000000e+00</td>\n",
       "      <td>0.000000</td>\n",
       "      <td>0.000000</td>\n",
       "      <td>0.000000</td>\n",
       "      <td>0.000000</td>\n",
       "      <td>0.000000</td>\n",
       "      <td>0.00000</td>\n",
       "      <td>0.000000</td>\n",
       "      <td>0.000000</td>\n",
       "      <td>0.000000</td>\n",
       "      <td>0.000000</td>\n",
       "      <td>1.000000e+00</td>\n",
       "      <td>0.000000</td>\n",
       "    </tr>\n",
       "    <tr>\n",
       "      <th>25%</th>\n",
       "      <td>16360.000000</td>\n",
       "      <td>6.000000e+04</td>\n",
       "      <td>4.000000</td>\n",
       "      <td>0.000000</td>\n",
       "      <td>0.000000</td>\n",
       "      <td>0.000000</td>\n",
       "      <td>0.000000</td>\n",
       "      <td>0.00000</td>\n",
       "      <td>0.000000</td>\n",
       "      <td>0.000000</td>\n",
       "      <td>0.000000</td>\n",
       "      <td>0.000000</td>\n",
       "      <td>3.271200e+04</td>\n",
       "      <td>6.000000</td>\n",
       "    </tr>\n",
       "    <tr>\n",
       "      <th>50%</th>\n",
       "      <td>32719.000000</td>\n",
       "      <td>1.100000e+05</td>\n",
       "      <td>9.000000</td>\n",
       "      <td>10.000000</td>\n",
       "      <td>0.000000</td>\n",
       "      <td>0.000000</td>\n",
       "      <td>20.000000</td>\n",
       "      <td>15.00000</td>\n",
       "      <td>10.000000</td>\n",
       "      <td>5.000000</td>\n",
       "      <td>0.000000</td>\n",
       "      <td>0.000000</td>\n",
       "      <td>6.500000e+04</td>\n",
       "      <td>7.000000</td>\n",
       "    </tr>\n",
       "    <tr>\n",
       "      <th>75%</th>\n",
       "      <td>49078.000000</td>\n",
       "      <td>2.500000e+05</td>\n",
       "      <td>16.000000</td>\n",
       "      <td>22.000000</td>\n",
       "      <td>5.000000</td>\n",
       "      <td>10.000000</td>\n",
       "      <td>30.000000</td>\n",
       "      <td>30.00000</td>\n",
       "      <td>25.000000</td>\n",
       "      <td>20.000000</td>\n",
       "      <td>10.000000</td>\n",
       "      <td>10.000000</td>\n",
       "      <td>1.079715e+05</td>\n",
       "      <td>8.000000</td>\n",
       "    </tr>\n",
       "    <tr>\n",
       "      <th>max</th>\n",
       "      <td>65437.000000</td>\n",
       "      <td>1.000000e+150</td>\n",
       "      <td>50.000000</td>\n",
       "      <td>100.000000</td>\n",
       "      <td>100.000000</td>\n",
       "      <td>100.000000</td>\n",
       "      <td>100.000000</td>\n",
       "      <td>100.00000</td>\n",
       "      <td>100.000000</td>\n",
       "      <td>100.000000</td>\n",
       "      <td>100.000000</td>\n",
       "      <td>100.000000</td>\n",
       "      <td>1.625660e+07</td>\n",
       "      <td>10.000000</td>\n",
       "    </tr>\n",
       "  </tbody>\n",
       "</table>\n",
       "</div>"
      ],
      "text/plain": [
       "         ResponseId      CompTotal       WorkExp  JobSatPoints_1  \\\n",
       "count  65437.000000   3.374000e+04  29658.000000    29324.000000   \n",
       "mean   32719.000000  2.963841e+145     11.466957       18.581094   \n",
       "std    18890.179119  5.444117e+147      9.168709       25.966221   \n",
       "min        1.000000   0.000000e+00      0.000000        0.000000   \n",
       "25%    16360.000000   6.000000e+04      4.000000        0.000000   \n",
       "50%    32719.000000   1.100000e+05      9.000000       10.000000   \n",
       "75%    49078.000000   2.500000e+05     16.000000       22.000000   \n",
       "max    65437.000000  1.000000e+150     50.000000      100.000000   \n",
       "\n",
       "       JobSatPoints_4  JobSatPoints_5  JobSatPoints_6  JobSatPoints_7  \\\n",
       "count    29393.000000    29411.000000    29450.000000     29448.00000   \n",
       "mean         7.522140       10.060857       24.343232        22.96522   \n",
       "std         18.422661       21.833836       27.089360        27.01774   \n",
       "min          0.000000        0.000000        0.000000         0.00000   \n",
       "25%          0.000000        0.000000        0.000000         0.00000   \n",
       "50%          0.000000        0.000000       20.000000        15.00000   \n",
       "75%          5.000000       10.000000       30.000000        30.00000   \n",
       "max        100.000000      100.000000      100.000000       100.00000   \n",
       "\n",
       "       JobSatPoints_8  JobSatPoints_9  JobSatPoints_10  JobSatPoints_11  \\\n",
       "count    29456.000000    29456.000000     29450.000000     29445.000000   \n",
       "mean        20.278165       16.169432        10.955713         9.953948   \n",
       "std         26.108110       24.845032        22.906263        21.775652   \n",
       "min          0.000000        0.000000         0.000000         0.000000   \n",
       "25%          0.000000        0.000000         0.000000         0.000000   \n",
       "50%         10.000000        5.000000         0.000000         0.000000   \n",
       "75%         25.000000       20.000000        10.000000        10.000000   \n",
       "max        100.000000      100.000000       100.000000       100.000000   \n",
       "\n",
       "       ConvertedCompYearly        JobSat  \n",
       "count         2.343500e+04  29126.000000  \n",
       "mean          8.615529e+04      6.935041  \n",
       "std           1.867570e+05      2.088259  \n",
       "min           1.000000e+00      0.000000  \n",
       "25%           3.271200e+04      6.000000  \n",
       "50%           6.500000e+04      7.000000  \n",
       "75%           1.079715e+05      8.000000  \n",
       "max           1.625660e+07     10.000000  "
      ]
     },
     "execution_count": 4,
     "metadata": {},
     "output_type": "execute_result"
    }
   ],
   "source": [
    "# Write your code here\n",
    "df.describe()"
   ]
  },
  {
   "cell_type": "markdown",
   "metadata": {},
   "source": [
    "### 3. Identifying and Removing Inconsistencies\n"
   ]
  },
  {
   "cell_type": "markdown",
   "metadata": {},
   "source": [
    "<h5>3.1 Identify inconsistent or irrelevant entries in specific columns (e.g., Country).</h5>\n"
   ]
  },
  {
   "cell_type": "code",
   "execution_count": 5,
   "metadata": {},
   "outputs": [
    {
     "name": "stdout",
     "output_type": "stream",
     "text": [
      "This is the list of all columns in the available dataframe:\n",
      "['ResponseId', 'MainBranch', 'Age', 'Employment', 'RemoteWork', 'Check', 'CodingActivities', 'EdLevel', 'LearnCode', 'LearnCodeOnline', 'TechDoc', 'YearsCode', 'YearsCodePro', 'DevType', 'OrgSize', 'PurchaseInfluence', 'BuyNewTool', 'BuildvsBuy', 'TechEndorse', 'Country', 'Currency', 'CompTotal', 'LanguageHaveWorkedWith', 'LanguageWantToWorkWith', 'LanguageAdmired', 'DatabaseHaveWorkedWith', 'DatabaseWantToWorkWith', 'DatabaseAdmired', 'PlatformHaveWorkedWith', 'PlatformWantToWorkWith', 'PlatformAdmired', 'WebframeHaveWorkedWith', 'WebframeWantToWorkWith', 'WebframeAdmired', 'EmbeddedHaveWorkedWith', 'EmbeddedWantToWorkWith', 'EmbeddedAdmired', 'MiscTechHaveWorkedWith', 'MiscTechWantToWorkWith', 'MiscTechAdmired', 'ToolsTechHaveWorkedWith', 'ToolsTechWantToWorkWith', 'ToolsTechAdmired', 'NEWCollabToolsHaveWorkedWith', 'NEWCollabToolsWantToWorkWith', 'NEWCollabToolsAdmired', 'OpSysPersonal use', 'OpSysProfessional use', 'OfficeStackAsyncHaveWorkedWith', 'OfficeStackAsyncWantToWorkWith', 'OfficeStackAsyncAdmired', 'OfficeStackSyncHaveWorkedWith', 'OfficeStackSyncWantToWorkWith', 'OfficeStackSyncAdmired', 'AISearchDevHaveWorkedWith', 'AISearchDevWantToWorkWith', 'AISearchDevAdmired', 'NEWSOSites', 'SOVisitFreq', 'SOAccount', 'SOPartFreq', 'SOHow', 'SOComm', 'AISelect', 'AISent', 'AIBen', 'AIAcc', 'AIComplex', 'AIToolCurrently Using', 'AIToolInterested in Using', 'AIToolNot interested in Using', 'AINextMuch more integrated', 'AINextNo change', 'AINextMore integrated', 'AINextLess integrated', 'AINextMuch less integrated', 'AIThreat', 'AIEthics', 'AIChallenges', 'TBranch', 'ICorPM', 'WorkExp', 'Knowledge_1', 'Knowledge_2', 'Knowledge_3', 'Knowledge_4', 'Knowledge_5', 'Knowledge_6', 'Knowledge_7', 'Knowledge_8', 'Knowledge_9', 'Frequency_1', 'Frequency_2', 'Frequency_3', 'TimeSearching', 'TimeAnswering', 'Frustration', 'ProfessionalTech', 'ProfessionalCloud', 'ProfessionalQuestion', 'Industry', 'JobSatPoints_1', 'JobSatPoints_4', 'JobSatPoints_5', 'JobSatPoints_6', 'JobSatPoints_7', 'JobSatPoints_8', 'JobSatPoints_9', 'JobSatPoints_10', 'JobSatPoints_11', 'SurveyLength', 'SurveyEase', 'ConvertedCompYearly', 'JobSat']\n",
      "\n",
      "['united states of america', 'united kingdom of great britain and northern ireland', 'canada', 'norway', 'uzbekistan', 'serbia', 'poland', 'philippines', 'bulgaria', 'switzerland', 'india', 'germany', 'ireland', 'italy', 'ukraine', 'australia', 'brazil', 'japan', 'austria', 'iran, islamic republic of...', 'france', 'saudi arabia', 'romania', 'turkey', 'nepal', 'algeria', 'sweden', 'netherlands', 'croatia', 'pakistan', 'czech republic', 'republic of north macedonia', 'finland', 'slovakia', 'russian federation', 'greece', 'israel', 'belgium', 'mexico', 'united republic of tanzania', 'hungary', 'argentina', 'portugal', 'sri lanka', 'latvia', 'china', 'singapore', 'lebanon', 'spain', 'south africa', 'lithuania', 'viet nam', 'dominican republic', 'indonesia', 'kosovo', 'morocco', 'taiwan', 'georgia', 'san marino', 'tunisia', 'bangladesh', 'nigeria', 'liechtenstein', 'denmark', 'ecuador', 'malaysia', 'albania', 'azerbaijan', 'chile', 'ghana', 'peru', 'bolivia', 'egypt', 'luxembourg', 'montenegro', 'cyprus', 'paraguay', 'kazakhstan', 'slovenia', 'jordan', 'venezuela, bolivarian republic of...', 'costa rica', 'jamaica', 'thailand', 'nicaragua', 'myanmar', 'republic of korea', 'rwanda', 'bosnia and herzegovina', 'benin', 'el salvador', 'zimbabwe', 'afghanistan', 'estonia', 'malta', 'uruguay', 'belarus', 'colombia', 'republic of moldova', 'isle of man', 'nomadic', 'new zealand', 'palestine', 'armenia', 'united arab emirates', 'maldives', 'ethiopia', 'fiji', 'guatemala', 'uganda', 'turkmenistan', 'mauritius', 'kenya', 'cuba', 'gabon', 'bahamas', 'south korea', 'iceland', 'honduras', 'hong kong (s.a.r.)', \"lao people's democratic republic\", 'mongolia', 'cambodia', 'madagascar', 'angola', 'democratic republic of the congo', 'syrian arab republic', 'iraq', 'namibia', 'senegal', 'kyrgyzstan', 'zambia', 'swaziland', \"côte d'ivoire\", 'kuwait', 'tajikistan', 'burundi', 'trinidad and tobago', 'mauritania', 'sierra leone', 'panama', 'somalia', 'north korea', 'dominica', 'guyana', 'togo', 'oman', 'barbados', 'andorra', \"democratic people's republic of korea\", 'qatar', 'sudan', 'cameroon', 'papua new guinea', 'bahrain', 'yemen', 'malawi', 'burkina faso', 'congo, republic of the...', 'botswana', 'guinea-bissau', 'mozambique', 'central african republic', 'equatorial guinea', 'suriname', 'belize', 'libyan arab jamahiriya', 'cape verde', 'brunei darussalam', 'bhutan', 'guinea', 'niger', 'antigua and barbuda', 'mali', 'samoa', 'lesotho', 'saint kitts and nevis', 'monaco', 'micronesia, federated states of...', 'haiti', nan, 'nauru', 'liberia', 'chad', 'djibouti', 'solomon islands']\n"
     ]
    }
   ],
   "source": [
    "# Write your code here\n",
    "print('This is the list of all columns in the available dataframe:')\n",
    "print(df.columns.tolist())\n",
    "print()\n",
    "\n",
    "# Finding unique values; stripping whitespaces and lowering all values\n",
    "cleaned_country = df['Country'].str.strip().str.lower()\n",
    "\n",
    "# Prints full count of values\n",
    "print(cleaned_country.unique().tolist())"
   ]
  },
  {
   "cell_type": "markdown",
   "metadata": {},
   "source": [
    "Based on the 2 above lists, many columns can be considered irrelavent to many types of discoveries. I will not go into the list myself, but pointing out the many opinion based entries would require studying answers and finding a method to clean the data based on thier study into the data.\n",
    "\n",
    "As for country data, we notice that the values are long form, some of which are full name of the country (united kingdom of great britain and northern ireland). While they might be accurate naming of the countries, these can cause  be simplified for investigation purposes. Below, we will change and uniform the countries to ISO Alpha-3 naming convention, to make them uniform in length and convention. A similar concept has also been applied to EdLevel, but with a common sense convention of my making."
   ]
  },
  {
   "cell_type": "markdown",
   "metadata": {},
   "source": [
    "<h5>3.2 Standardize entries in columns like Country or EdLevel by mapping inconsistent values to a consistent format.</h5>\n"
   ]
  },
  {
   "cell_type": "code",
   "execution_count": 6,
   "metadata": {},
   "outputs": [],
   "source": [
    "## Write your code here\n",
    "country_label = {\n",
    "    'Aruba': 'ABW',\n",
    "    'Afghanistan': 'AFG',\n",
    "    'Angola': 'AGO',\n",
    "    'Anguilla': 'AIA',\n",
    "    'Åland Islands': 'ALA',\n",
    "    'Albania': 'ALB',\n",
    "    'Andorra': 'AND',\n",
    "    'United Arab Emirates': 'ARE',\n",
    "    'Argentina': 'ARG',\n",
    "    'Armenia': 'ARM',\n",
    "    'American Samoa': 'ASM',\n",
    "    'Antarctica': 'ATA',\n",
    "    'French Southern Territories': 'ATF',\n",
    "    'Antigua and Barbuda': 'ATG',\n",
    "    'Australia': 'AUS',\n",
    "    'Austria': 'AUT',\n",
    "    'Azerbaijan': 'AZE',\n",
    "    'Burundi': 'BDI',\n",
    "    'Belgium': 'BEL',\n",
    "    'Benin': 'BEN',\n",
    "    'Bonaire, Sint Eustatius and Saba': 'BES',\n",
    "    'Burkina Faso': 'BFA',\n",
    "    'Bangladesh': 'BGD',\n",
    "    'Bulgaria': 'BGR',\n",
    "    'Bahrain': 'BHR',\n",
    "    'Bahamas': 'BHS',\n",
    "    'Bosnia and Herzegovina': 'BIH',\n",
    "    'Saint Barthélemy': 'BLM',\n",
    "    'Belarus': 'BLR',\n",
    "    'Belize': 'BLZ',\n",
    "    'Bermuda': 'BMU',\n",
    "    'Bolivia, Plurinational State of': 'BOL',\n",
    "    'Brazil': 'BRA',\n",
    "    'Barbados': 'BRB',\n",
    "    'Brunei Darussalam': 'BRN',\n",
    "    'Bhutan': 'BTN',\n",
    "    'Bouvet Island': 'BVT',\n",
    "    'Botswana': 'BWA',\n",
    "    'Central African Republic': 'CAF',\n",
    "    'Canada': 'CAN',\n",
    "    'Cocos (Keeling) Islands': 'CCK',\n",
    "    'Switzerland': 'CHE',\n",
    "    'Chile': 'CHL',\n",
    "    'China': 'CHN',\n",
    "    \"Côte d'Ivoire\": 'CIV',\n",
    "    'Cameroon': 'CMR',\n",
    "    'Congo, Democratic Republic of the': 'COD',\n",
    "    'Congo': 'COG',\n",
    "    'Cook Islands': 'COK',\n",
    "    'Colombia': 'COL',\n",
    "    'Comoros': 'COM',\n",
    "    'Cabo Verde': 'CPV',\n",
    "    'Costa Rica': 'CRI',\n",
    "    'Cuba': 'CUB',\n",
    "    'Curaçao': 'CUW',\n",
    "    'Christmas Island': 'CXR',\n",
    "    'Cayman Islands': 'CYM',\n",
    "    'Cyprus': 'CYP',\n",
    "    'Czechia': 'CZE',\n",
    "    'Germany': 'DEU',\n",
    "    'Djibouti': 'DJI',\n",
    "    'Dominica': 'DMA',\n",
    "    'Denmark': 'DNK',\n",
    "    'Dominican Republic': 'DOM',\n",
    "    'Algeria': 'DZA',\n",
    "    'Ecuador': 'ECU',\n",
    "    'Egypt': 'EGY',\n",
    "    'Eritrea': 'ERI',\n",
    "    'Western Sahara': 'ESH',\n",
    "    'Spain': 'ESP',\n",
    "    'Estonia': 'EST',\n",
    "    'Ethiopia': 'ETH',\n",
    "    'Finland': 'FIN',\n",
    "    'Fiji': 'FJI',\n",
    "    'Falkland Islands (Malvinas)': 'FLK',\n",
    "    'France': 'FRA',\n",
    "    'Faroe Islands': 'FRO',\n",
    "    'Micronesia, Federated States of': 'FSM',\n",
    "    'Gabon': 'GAB',\n",
    "    'United Kingdom of Great Britain and Northern Ireland': 'GBR',\n",
    "    'Georgia': 'GEO',\n",
    "    'Guernsey': 'GGY',\n",
    "    'Ghana': 'GHA',\n",
    "    'Gibraltar': 'GIB',\n",
    "    'Guinea': 'GIN',\n",
    "    'Guadeloupe': 'GLP',\n",
    "    'Gambia': 'GMB',\n",
    "    'Guinea-Bissau': 'GNB',\n",
    "    'Equatorial Guinea': 'GNQ',\n",
    "    'Greece': 'GRC',\n",
    "    'Grenada': 'GRD',\n",
    "    'Greenland': 'GRL',\n",
    "    'Guatemala': 'GTM',\n",
    "    'French Guiana': 'GUF',\n",
    "    'Guam': 'GUM',\n",
    "    'Guyana': 'GUY',\n",
    "    'Hong Kong': 'HKG',\n",
    "    'Heard Island and McDonald Islands': 'HMD',\n",
    "    'Honduras': 'HND',\n",
    "    'Croatia': 'HRV',\n",
    "    'Haiti': 'HTI',\n",
    "    'Hungary': 'HUN',\n",
    "    'Indonesia': 'IDN',\n",
    "    'Isle of Man': 'IMN',\n",
    "    'India': 'IND',\n",
    "    'British Indian Ocean Territory': 'IOT',\n",
    "    'Ireland': 'IRL',\n",
    "    'Iran, Islamic Republic of': 'IRN',\n",
    "    'Iraq': 'IRQ',\n",
    "    'Iceland': 'ISL',\n",
    "    'Israel': 'ISR',\n",
    "    'Italy': 'ITA',\n",
    "    'Jamaica': 'JAM',\n",
    "    'Jersey': 'JEY',\n",
    "    'Jordan': 'JOR',\n",
    "    'Japan': 'JPN',\n",
    "    'Kazakhstan': 'KAZ',\n",
    "    'Kenya': 'KEN',\n",
    "    'Kyrgyzstan': 'KGZ',\n",
    "    'Cambodia': 'KHM',\n",
    "    'Kiribati': 'KIR',\n",
    "    'Saint Kitts and Nevis': 'KNA',\n",
    "    'Korea, Republic of': 'KOR',\n",
    "    'Kuwait': 'KWT',\n",
    "    \"Lao People's Democratic Republic\": 'LAO',\n",
    "    'Lebanon': 'LBN',\n",
    "    'Liberia': 'LBR',\n",
    "    'Libya': 'LBY',\n",
    "    'Saint Lucia': 'LCA',\n",
    "    'Liechtenstein': 'LIE',\n",
    "    'Sri Lanka': 'LKA',\n",
    "    'Lesotho': 'LSO',\n",
    "    'Lithuania': 'LTU',\n",
    "    'Luxembourg': 'LUX',\n",
    "    'Latvia': 'LVA',\n",
    "    'Macao': 'MAC',\n",
    "    'Saint Martin (French part)': 'MAF',\n",
    "    'Morocco': 'MAR',\n",
    "    'Monaco': 'MCO',\n",
    "    'Moldova, Republic of': 'MDA',\n",
    "    'Madagascar': 'MDG',\n",
    "    'Maldives': 'MDV',\n",
    "    'Mexico': 'MEX',\n",
    "    'Marshall Islands': 'MHL',\n",
    "    'North Macedonia': 'MKD',\n",
    "    'Mali': 'MLI',\n",
    "    'Malta': 'MLT',\n",
    "    'Myanmar': 'MMR',\n",
    "    'Montenegro': 'MNE',\n",
    "    'Mongolia': 'MNG',\n",
    "    'Northern Mariana Islands': 'MNP',\n",
    "    'Mozambique': 'MOZ',\n",
    "    'Mauritania': 'MRT',\n",
    "    'Montserrat': 'MSR',\n",
    "    'Martinique': 'MTQ',\n",
    "    'Mauritius': 'MUS',\n",
    "    'Malawi': 'MWI',\n",
    "    'Malaysia': 'MYS',\n",
    "    'Mayotte': 'MYT',\n",
    "    'Namibia': 'NAM',\n",
    "    'New Caledonia': 'NCL',\n",
    "    'Niger': 'NER',\n",
    "    'Norfolk Island': 'NFK',\n",
    "    'Nigeria': 'NGA',\n",
    "    'Nicaragua': 'NIC',\n",
    "    'Niue': 'NIU',\n",
    "    'Netherlands, Kingdom of the': 'NLD',\n",
    "    'Norway': 'NOR',\n",
    "    'Nepal': 'NPL',\n",
    "    'Nauru': 'NRU',\n",
    "    'New Zealand': 'NZL',\n",
    "    'Oman': 'OMN',\n",
    "    'Pakistan': 'PAK',\n",
    "    'Panama': 'PAN',\n",
    "    'Pitcairn': 'PCN',\n",
    "    'Peru': 'PER',\n",
    "    'Philippines': 'PHL',\n",
    "    'Palau': 'PLW',\n",
    "    'Papua New Guinea': 'PNG',\n",
    "    'Poland': 'POL',\n",
    "    'Puerto Rico': 'PRI',\n",
    "    \"Korea, Democratic People's Republic of\": 'PRK',\n",
    "    'Portugal': 'PRT',\n",
    "    'Paraguay': 'PRY',\n",
    "    'Palestine, State of': 'PSE',\n",
    "    'French Polynesia': 'PYF',\n",
    "    'Qatar': 'QAT',\n",
    "    'Réunion': 'REU',\n",
    "    'Romania': 'ROU',\n",
    "    'Russian Federation': 'RUS',\n",
    "    'Rwanda': 'RWA',\n",
    "    'Saudi Arabia': 'SAU',\n",
    "    'Sudan': 'SDN',\n",
    "    'Senegal': 'SEN',\n",
    "    'Singapore': 'SGP',\n",
    "    'South Georgia and the South Sandwich Islands': 'SGS',\n",
    "    'Saint Helena, Ascension and Tristan da Cunha': 'SHN',\n",
    "    'Svalbard and Jan Mayen': 'SJM',\n",
    "    'Solomon Islands': 'SLB',\n",
    "    'Sierra Leone': 'SLE',\n",
    "    'El Salvador': 'SLV',\n",
    "    'San Marino': 'SMR',\n",
    "    'Somalia': 'SOM',\n",
    "    'Saint Pierre and Miquelon': 'SPM',\n",
    "    'Serbia': 'SRB',\n",
    "    'South Sudan': 'SSD',\n",
    "    'Sao Tome and Principe': 'STP',\n",
    "    'Suriname': 'SUR',\n",
    "    'Slovakia': 'SVK',\n",
    "    'Slovenia': 'SVN',\n",
    "    'Sweden': 'SWE',\n",
    "    'Eswatini': 'SWZ',\n",
    "    'Sint Maarten (Dutch part)': 'SXM',\n",
    "    'Seychelles': 'SYC',\n",
    "    'Syrian Arab Republic': 'SYR',\n",
    "    'Turks and Caicos Islands': 'TCA',\n",
    "    'Chad': 'TCD',\n",
    "    'Togo': 'TGO',\n",
    "    'Thailand': 'THA',\n",
    "    'Tajikistan': 'TJK',\n",
    "    'Tokelau': 'TKL',\n",
    "    'Turkmenistan': 'TKM',\n",
    "    'Timor-Leste': 'TLS',\n",
    "    'Tonga': 'TON',\n",
    "    'Trinidad and Tobago': 'TTO',\n",
    "    'Tunisia': 'TUN',\n",
    "    'Türkiye': 'TUR',\n",
    "    'Tuvalu': 'TUV',\n",
    "    'Taiwan, Province of China': 'TWN',\n",
    "    'Tanzania, United Republic of': 'TZA',\n",
    "    'Uganda': 'UGA',\n",
    "    'Ukraine': 'UKR',\n",
    "    'United States Minor Outlying Islands': 'UMI',\n",
    "    'Uruguay': 'URY',\n",
    "    'United States of America': 'USA',\n",
    "    'Uzbekistan': 'UZB',\n",
    "    'Holy See': 'VAT',\n",
    "    'Saint Vincent and the Grenadines': 'VCT',\n",
    "    'Venezuela, Bolivarian Republic of': 'VEN',\n",
    "    'Virgin Islands (British)': 'VGB',\n",
    "    'Virgin Islands (U.S.)': 'VIR',\n",
    "    'Viet Nam': 'VNM',\n",
    "    'Vanuatu': 'VUT',\n",
    "    'Wallis and Futuna': 'WLF',\n",
    "    'Samoa': 'WSM',\n",
    "    'Yemen': 'YEM',\n",
    "    'South Africa': 'ZAF',\n",
    "    'Zambia': 'ZMB',\n",
    "    'Zimbabwe': 'ZWE',\n",
    "}\n",
    "\n",
    "edlevel_label = {\n",
    "    'Primary/elementary school': 'PRI',\n",
    "    'Secondary school (e.g. American high school, German Realschule or Gymnasium, etc.)': 'SEC',\n",
    "    'Some college/university study without earning a degree': 'COL',\n",
    "    'Associate degree (A.A., A.S., etc.)': 'ASC',\n",
    "    'Bachelor’s degree (B.A., B.S., B.Eng., etc.)': 'BCL',\n",
    "    'Master’s degree (M.A., M.S., M.Eng., MBA, etc.)': 'MST',\n",
    "    'Professional degree (JD, MD, Ph.D, Ed.D, etc.)': 'PRO',\n",
    "    'Something else': 'SOM'\n",
    "}\n",
    "\n",
    "# Mapping new labels to available columns\n",
    "df['Country_Short'] = df['Country'].map(country_label)\n",
    "df['EdLevel_Short'] = df['EdLevel'].map(edlevel_label)"
   ]
  },
  {
   "cell_type": "markdown",
   "metadata": {},
   "source": [
    "### 4. Encoding Categorical Variables\n"
   ]
  },
  {
   "cell_type": "markdown",
   "metadata": {},
   "source": [
    "<h5>4.1 Encode the Employment column using one-hot encoding.</h5>\n"
   ]
  },
  {
   "cell_type": "code",
   "execution_count": 7,
   "metadata": {},
   "outputs": [],
   "source": [
    "## Write your code here\n",
    "# Creates the encoding\n",
    "employment_ohe = pd.get_dummies(df['Employment'], prefix='Emp', dummy_na=True)\n",
    "\n",
    "# Adds it to the dataframe\n",
    "df = pd.concat([df, employment_ohe], axis=1)"
   ]
  },
  {
   "cell_type": "markdown",
   "metadata": {},
   "source": [
    "### 5. Handling Missing Values\n"
   ]
  },
  {
   "cell_type": "markdown",
   "metadata": {},
   "source": [
    "<h5>5.1 Identify columns with the highest number of missing values.</h5>\n"
   ]
  },
  {
   "cell_type": "code",
   "execution_count": 8,
   "metadata": {},
   "outputs": [
    {
     "name": "stdout",
     "output_type": "stream",
     "text": [
      "AINextMuch less integrated    64289\n",
      "AINextLess integrated         63082\n",
      "AINextNo change               52939\n",
      "AINextMuch more integrated    51999\n",
      "EmbeddedAdmired               48704\n",
      "                              ...  \n",
      "NEWSOSites                     5151\n",
      "LearnCode                      4949\n",
      "EdLevel                        4653\n",
      "EdLevel_Short                  4653\n",
      "AISelect                       4530\n",
      "Length: 111, dtype: int64\n",
      "Total missing values for ConvertedCompYearly: 42002\n"
     ]
    }
   ],
   "source": [
    "## Write your code here\n",
    "missing_values = df.isnull().sum()\n",
    "\n",
    "# Filters list to all columns with missing values\n",
    "missing_values = missing_values[missing_values > 0].sort_values(ascending=False)\n",
    "\n",
    "# Prints summary\n",
    "print(missing_values)\n",
    "\n",
    "# Seperate print to show for next tasks\n",
    "print('Total missing values for ConvertedCompYearly:', df['ConvertedCompYearly'].isnull().sum())"
   ]
  },
  {
   "cell_type": "markdown",
   "metadata": {},
   "source": [
    "<h5>5.2 Impute missing values in numerical columns (e.g., `ConvertedCompYearly`) with the mean or median.</h5>\n"
   ]
  },
  {
   "cell_type": "code",
   "execution_count": 9,
   "metadata": {},
   "outputs": [
    {
     "name": "stdout",
     "output_type": "stream",
     "text": [
      "The mean is 86155.29 and median is 65000.00\n",
      "Total missing values for ConvertedCompYearly: 0\n"
     ]
    }
   ],
   "source": [
    "## Write your code here\n",
    "# Calculating mean and median for columns\n",
    "mean = df['ConvertedCompYearly'].mean()\n",
    "median = df['ConvertedCompYearly'].median()\n",
    "\n",
    "# Printing\n",
    "print(f'The mean is {mean:.2f} and median is {median:.2f}')\n",
    "\n",
    "# Replacing values\n",
    "df['ConvertedCompYearly'] = df['ConvertedCompYearly'].fillna(median)\n",
    "\n",
    "# Check\n",
    "print('Total missing values for ConvertedCompYearly:', df['ConvertedCompYearly'].isnull().sum())"
   ]
  },
  {
   "cell_type": "markdown",
   "metadata": {},
   "source": [
    "<h5>5.3 Impute missing values in categorical columns (e.g., `RemoteWork`) with the most frequent value.</h5>\n"
   ]
  },
  {
   "cell_type": "code",
   "execution_count": 10,
   "metadata": {},
   "outputs": [
    {
     "data": {
      "text/plain": [
       "RemoteWork\n",
       "False    65437\n",
       "Name: count, dtype: int64"
      ]
     },
     "execution_count": 10,
     "metadata": {},
     "output_type": "execute_result"
    }
   ],
   "source": [
    "## Write your code here\n",
    "# Finds the most frequent value\n",
    "most_remotework = df['RemoteWork'].value_counts().idxmax()\n",
    "\n",
    "# Replaces NaN values in column\n",
    "df.loc[:, 'RemoteWork'] = df['RemoteWork'].fillna(most_remotework)\n",
    "\n",
    "# Check values are replaced\n",
    "df['RemoteWork'].isnull().value_counts()"
   ]
  },
  {
   "cell_type": "markdown",
   "metadata": {},
   "source": [
    "### 6. Feature Scaling and Transformation\n"
   ]
  },
  {
   "cell_type": "markdown",
   "metadata": {},
   "source": [
    "<h5>6.1 Apply Min-Max Scaling to normalize the `ConvertedCompYearly` column.</h5>\n"
   ]
  },
  {
   "cell_type": "code",
   "execution_count": 11,
   "metadata": {},
   "outputs": [
    {
     "data": {
      "text/plain": [
       "0        0.003998\n",
       "1        0.003998\n",
       "2        0.003998\n",
       "3        0.003998\n",
       "4        0.003998\n",
       "           ...   \n",
       "65432    0.003998\n",
       "65433    0.003998\n",
       "65434    0.003998\n",
       "65435    0.003998\n",
       "65436    0.003998\n",
       "Name: ConvertedCompYearly_Normalized, Length: 65437, dtype: float64"
      ]
     },
     "execution_count": 11,
     "metadata": {},
     "output_type": "execute_result"
    }
   ],
   "source": [
    "## Write your code here\n",
    "# Getting minimum and maximum values from column\n",
    "min_value = df['ConvertedCompYearly'].min()\n",
    "max_value = df['ConvertedCompYearly'].max()\n",
    "\n",
    "# Applying Min-Max Scaling\n",
    "df['ConvertedCompYearly_Normalized'] = (\n",
    "    (df['ConvertedCompYearly'] - min_value) / (max_value - min_value))\n",
    "\n",
    "# Printing first 5 rows to check values\n",
    "df['ConvertedCompYearly_Normalized']"
   ]
  },
  {
   "cell_type": "markdown",
   "metadata": {},
   "source": [
    "<h5>6.2 Log-transform the ConvertedCompYearly column to reduce skewness.</h5>\n"
   ]
  },
  {
   "cell_type": "code",
   "execution_count": 12,
   "metadata": {},
   "outputs": [
    {
     "data": {
      "text/plain": [
       "0        11.082158\n",
       "1        11.082158\n",
       "2        11.082158\n",
       "3        11.082158\n",
       "4        11.082158\n",
       "           ...    \n",
       "65432    11.082158\n",
       "65433    11.082158\n",
       "65434    11.082158\n",
       "65435    11.082158\n",
       "65436    11.082158\n",
       "Name: ConvertedCompYearly_Log, Length: 65437, dtype: float64"
      ]
     },
     "execution_count": 12,
     "metadata": {},
     "output_type": "execute_result"
    }
   ],
   "source": [
    "## Write your code here\n",
    "import numpy as np\n",
    "\n",
    "df['ConvertedCompYearly_Log']= np.log1p(df['ConvertedCompYearly'])\n",
    "df['ConvertedCompYearly_Log']"
   ]
  },
  {
   "cell_type": "markdown",
   "metadata": {},
   "source": [
    "### 7. Feature Engineering\n"
   ]
  },
  {
   "cell_type": "markdown",
   "metadata": {},
   "source": [
    "<h5>7.1 Create a new column `ExperienceLevel` based on the `YearsCodePro` column:</h5>\n"
   ]
  },
  {
   "cell_type": "code",
   "execution_count": 13,
   "metadata": {},
   "outputs": [
    {
     "name": "stdout",
     "output_type": "stream",
     "text": [
      "13827\n",
      "YearsCodePro\n",
      "2                     4168\n",
      "3                     4093\n",
      "5                     3526\n",
      "10                    3251\n",
      "4                     3215\n",
      "Less than 1 year      2856\n",
      "6                     2843\n",
      "1                     2639\n",
      "8                     2549\n",
      "7                     2517\n",
      "12                    1777\n",
      "15                    1635\n",
      "20                    1549\n",
      "9                     1493\n",
      "11                    1312\n",
      "13                    1127\n",
      "14                    1082\n",
      "25                     998\n",
      "16                     946\n",
      "18                     867\n",
      "17                     814\n",
      "30                     689\n",
      "24                     632\n",
      "19                     516\n",
      "22                     492\n",
      "23                     448\n",
      "26                     426\n",
      "27                     380\n",
      "21                     380\n",
      "28                     342\n",
      "35                     285\n",
      "29                     196\n",
      "40                     194\n",
      "32                     194\n",
      "34                     169\n",
      "38                     134\n",
      "33                     132\n",
      "36                     119\n",
      "31                     106\n",
      "37                     104\n",
      "45                      56\n",
      "42                      55\n",
      "39                      54\n",
      "41                      51\n",
      "More than 50 years      50\n",
      "44                      42\n",
      "43                      37\n",
      "46                      21\n",
      "50                      14\n",
      "48                      14\n",
      "49                      11\n",
      "47                      10\n",
      "Name: count, dtype: int64\n"
     ]
    },
    {
     "data": {
      "text/plain": [
       "0          beginner\n",
       "1        proficient\n",
       "2          advanced\n",
       "3          beginner\n",
       "4          beginner\n",
       "            ...    \n",
       "65432        novice\n",
       "65433      beginner\n",
       "65434     competent\n",
       "65435        novice\n",
       "65436      beginner\n",
       "Name: ExperienceLevel, Length: 65437, dtype: category\n",
       "Categories (6, object): ['beginner' < 'novice' < 'competent' < 'proficient' < 'advanced' < 'expert']"
      ]
     },
     "execution_count": 13,
     "metadata": {},
     "output_type": "execute_result"
    }
   ],
   "source": [
    "## Write your code here\n",
    "# See the data and ranges we dealing with\n",
    "print(df['YearsCodePro'].isnull().sum())\n",
    "print(df['YearsCodePro'].value_counts())\n",
    "\n",
    "# Clean and convert the data\n",
    "df['YearsCodePro'] = df['YearsCodePro'].replace({\n",
    "    'Less than 1 year': 0.5,\n",
    "    'More than 50 years': 55\n",
    "})\n",
    "df['YearsCodePro'] = df['YearsCodePro'].fillna(0)\n",
    "df['YearsCodePro'] = pd.to_numeric(df['YearsCodePro'])\n",
    "\n",
    "# Define custom bins and labels\n",
    "bins = [-1, 1, 4, 9, 19, 34, float('inf')]\n",
    "labels = ['beginner', 'novice', 'competent', 'proficient', 'advanced', 'expert']\n",
    "\n",
    "# Apply pd.cut to assign experience level\n",
    "df['ExperienceLevel'] = pd.cut(df['YearsCodePro'], bins=bins, labels=labels)\n",
    "\n",
    "df['ExperienceLevel']\n"
   ]
  },
  {
   "cell_type": "markdown",
   "metadata": {},
   "source": [
    "### Summary\n"
   ]
  },
  {
   "cell_type": "markdown",
   "metadata": {},
   "source": [
    "In this lab, you:\n",
    "\n",
    "- Explored the dataset to identify inconsistencies and missing values.\n",
    "\n",
    "- Encoded categorical variables for analysis.\n",
    "\n",
    "- Handled missing values using imputation techniques.\n",
    "\n",
    "- Normalized and transformed numerical data to prepare it for analysis.\n",
    "\n",
    "- Engineered a new feature to enhance data interpretation.\n"
   ]
  },
  {
   "cell_type": "markdown",
   "metadata": {},
   "source": [
    "Copyright © IBM Corporation. All rights reserved.\n"
   ]
  }
 ],
 "metadata": {
  "kernelspec": {
   "display_name": "Python 3 (ipykernel)",
   "language": "python",
   "name": "python3"
  },
  "language_info": {
   "codemirror_mode": {
    "name": "ipython",
    "version": 3
   },
   "file_extension": ".py",
   "mimetype": "text/x-python",
   "name": "python",
   "nbconvert_exporter": "python",
   "pygments_lexer": "ipython3",
   "version": "3.12.8"
  },
  "prev_pub_hash": "1e8e234f19fd098e27b0518a87f18de690e1c51f1d3263d5690927d19971251e"
 },
 "nbformat": 4,
 "nbformat_minor": 4
}
